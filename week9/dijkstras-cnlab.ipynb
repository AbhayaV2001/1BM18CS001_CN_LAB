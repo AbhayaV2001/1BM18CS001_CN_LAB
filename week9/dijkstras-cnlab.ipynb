{
 "cells": [
  {
   "cell_type": "code",
   "execution_count": 1,
   "metadata": {
    "_cell_guid": "79c7e3d0-c299-4dcb-8224-4455121ee9b0",
    "_uuid": "d629ff2d2480ee46fbb7e2d37f6b5fab8052498a",
    "execution": {
     "iopub.execute_input": "2020-12-07T07:02:28.900184Z",
     "iopub.status.busy": "2020-12-07T07:02:28.894904Z",
     "iopub.status.idle": "2020-12-07T07:02:28.910223Z",
     "shell.execute_reply": "2020-12-07T07:02:28.909577Z"
    },
    "papermill": {
     "duration": 0.031868,
     "end_time": "2020-12-07T07:02:28.910332",
     "exception": false,
     "start_time": "2020-12-07T07:02:28.878464",
     "status": "completed"
    },
    "tags": []
   },
   "outputs": [
    {
     "name": "stdout",
     "output_type": "stream",
     "text": [
      "Shortest Path Table of A\n",
      "A\t0\t[]\n",
      "B\t1\t['B']\n",
      "C\t1\t['C']\n",
      "D\t2\t['B', 'D']\n",
      "E\t2\t['B', 'E']\n",
      "Shortest Path Table of B\n",
      "A\t1\t['A']\n",
      "B\t0\t[]\n",
      "C\t2\t['A', 'C']\n",
      "D\t1\t['D']\n",
      "E\t1\t['E']\n",
      "Shortest Path Table of C\n",
      "A\t1\t['A']\n",
      "B\t2\t['A', 'B']\n",
      "C\t0\t[]\n",
      "D\t1\t['D']\n",
      "E\t2\t['D', 'E']\n",
      "Shortest Path Table of D\n",
      "A\t2\t['B', 'A']\n",
      "B\t1\t['B']\n",
      "C\t1\t['C']\n",
      "D\t0\t[]\n",
      "E\t1\t['E']\n",
      "Shortest Path Table of E\n",
      "A\t2\t['B', 'A']\n",
      "B\t1\t['B']\n",
      "C\t2\t['D', 'C']\n",
      "D\t1\t['D']\n",
      "E\t0\t[]\n"
     ]
    }
   ],
   "source": [
    "\n",
    "import sys \n",
    "   \n",
    "class Network(): \n",
    "   \n",
    "    def __init__(self, nodes): \n",
    "        self.V = nodes \n",
    "        self.graph = [[0 for column in range(nodes)]  \n",
    "                    for row in range(nodes)] \n",
    "   \n",
    "    def printTable(self, dist,src,path): \n",
    "        print(\"Shortest Path Table of {}\".format(chr(ord('A')+src)))  \n",
    "        for node in range(self.V): \n",
    "            print(\"{0}\\t{1}\\t{2}\".format(chr(ord('A')+node), dist[node],path[node]))  \n",
    "            \n",
    "\n",
    "    def minDistance(self, dist, sptSet): \n",
    "   \n",
    "        min = sys.maxsize \n",
    "   \n",
    "        for v in range(self.V): \n",
    "            if dist[v] < min and sptSet[v] == False: \n",
    "                min = dist[v] \n",
    "                min_index = v \n",
    "   \n",
    "        return min_index \n",
    "   \n",
    "    def dijkstra(self, src): \n",
    "   \n",
    "        dist = [sys.maxsize] * self.V \n",
    "        dist[src] = 0\n",
    "        sptSet = [False] * self.V \n",
    "        path={}\n",
    "        for _ in range(self.V):\n",
    "            path[_]=[]\n",
    "        for i in range(self.V): \n",
    "   \n",
    "            u = self.minDistance(dist, sptSet) \n",
    "   \n",
    "            sptSet[u] = True\n",
    "   \n",
    "            for v in range(self.V): \n",
    "                if self.graph[u][v] > 0 and sptSet[v] == False and dist[v] > dist[u] + self.graph[u][v]: \n",
    "                    dist[v] = dist[u] + self.graph[u][v] \n",
    "                    if u == src:\n",
    "                        path[v].append(chr(ord('A')+v))\n",
    "                    else:\n",
    "                        path[v].append(chr(ord('A')+u))\n",
    "                        path[v].append(chr(ord('A')+v))\n",
    "   \n",
    "        self.printTable(dist,src,path) \n",
    "        \n",
    "   \n",
    "g = Network(5) \n",
    "g.graph = [[0,1,1,0,0],[1,0,0,1,1],[1,0,0,1,0],[0,1,1,0,1],[0,1,0,1,0]]\n",
    "   \n",
    "for i in range(g.V):\n",
    "    g.dijkstra(i)"
   ]
  }
 ],
 "metadata": {
  "kernelspec": {
   "display_name": "Python 3",
   "language": "python",
   "name": "python3"
  },
  "language_info": {
   "codemirror_mode": {
    "name": "ipython",
    "version": 3
   },
   "file_extension": ".py",
   "mimetype": "text/x-python",
   "name": "python",
   "nbconvert_exporter": "python",
   "pygments_lexer": "ipython3",
   "version": "3.7.6"
  },
  "papermill": {
   "duration": 4.367605,
   "end_time": "2020-12-07T07:02:29.021220",
   "environment_variables": {},
   "exception": null,
   "input_path": "__notebook__.ipynb",
   "output_path": "__notebook__.ipynb",
   "parameters": {},
   "start_time": "2020-12-07T07:02:24.653615",
   "version": "2.1.0"
  }
 },
 "nbformat": 4,
 "nbformat_minor": 4
}
